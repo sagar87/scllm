{
 "cells": [
  {
   "cell_type": "code",
   "execution_count": 5,
   "metadata": {},
   "outputs": [],
   "source": [
    "from dotenv import load_dotenv\n",
    "load_dotenv()\n",
    "import scllm as sl\n",
    "import scanpy as sc\n",
    "import pandas as pd\n",
    "from langchain_openai import ChatOpenAI\n",
    "\n",
    "from IPython.display import display, Markdown, Latex\n",
    "\n",
    "def pprint(text):\n",
    "    display(Markdown(text))\n"
   ]
  },
  {
   "cell_type": "code",
   "execution_count": 3,
   "metadata": {},
   "outputs": [],
   "source": [
    "openai_model = \"gpt-4o-mini\"\n",
    "llm = ChatOpenAI(temperature=0.0, model=openai_model)\n",
    "pbmc = sc.datasets.pbmc3k_processed()"
   ]
  },
  {
   "cell_type": "code",
   "execution_count": 4,
   "metadata": {},
   "outputs": [
    {
     "name": "stderr",
     "output_type": "stream",
     "text": [
      "/var/folders/_4/qhxlw4x53134ffft2v5pt3nh0000gn/T/ipykernel_32984/3946403732.py:1: FutureWarning: In the future, the default backend for leiden will be igraph instead of leidenalg.\n",
      "\n",
      " To achieve the future defaults please pass: flavor=\"igraph\" and n_iterations=2.  directed must also be False to work with igraph's implementation.\n",
      "  sc.tl.leiden(pbmc)\n"
     ]
    }
   ],
   "source": [
    "sc.tl.leiden(pbmc)"
   ]
  },
  {
   "cell_type": "markdown",
   "metadata": {},
   "source": [
    "## Gather Descriptions"
   ]
  },
  {
   "cell_type": "code",
   "execution_count": 7,
   "metadata": {},
   "outputs": [],
   "source": [
    "m0 = sl.tl.ClusterAnnotationDescription()"
   ]
  },
  {
   "cell_type": "code",
   "execution_count": 8,
   "metadata": {},
   "outputs": [],
   "source": [
    "r0 = m0.fit(pbmc, llm, 'leiden')"
   ]
  },
  {
   "cell_type": "markdown",
   "metadata": {},
   "source": [
    "Cluster 1"
   ]
  },
  {
   "cell_type": "code",
   "execution_count": 14,
   "metadata": {},
   "outputs": [
    {
     "data": {
      "text/markdown": [
       "The list of genes you provided includes a mix of ribosomal protein genes (RPS and RPL genes), T-cell markers (CD3D, CD3E, IL7R), and other genes that are often associated with immune responses and cellular metabolism (such as LDHB and IL32). \n",
       "\n",
       "1. **Ribosomal Proteins (RPS and RPL)**: The presence of numerous ribosomal protein genes (RPS and RPL) suggests that the cells are likely to be actively translating proteins, which is a characteristic of many cell types, but particularly those that are rapidly proliferating or have high metabolic activity.\n",
       "\n",
       "2. **T-cell Markers**: The genes CD3D, CD3E, and IL7R are well-known markers for T-cells. CD3 is a part of the T-cell receptor complex, and IL7R is important for T-cell development and homeostasis. \n",
       "\n",
       "3. **Other Immune-Related Genes**: The presence of IL32, which is involved in immune responses, further supports the idea that these cells are part of the immune system.\n",
       "\n",
       "Given this combination of ribosomal proteins and T-cell markers, it is likely that the cell type represented by these genes is a **T-lymphocyte (T-cell)**, possibly a subtype such as CD4+ helper T-cells or CD8+ cytotoxic T-cells, depending on the specific context and additional markers that might be present in the dataset. \n",
       "\n",
       "In summary, the genes you listed are indicative of T-cells, particularly those that are actively engaged in immune responses."
      ],
      "text/plain": [
       "<IPython.core.display.Markdown object>"
      ]
     },
     "metadata": {},
     "output_type": "display_data"
    }
   ],
   "source": [
    "pprint(r0[0]['target'])"
   ]
  },
  {
   "cell_type": "code",
   "execution_count": null,
   "metadata": {},
   "outputs": [
    {
     "data": {
      "text/markdown": [
       "The list of genes you provided is primarily associated with B cells and antigen-presenting cells, particularly those involved in the immune response. Here are some key points regarding the genes:\n",
       "\n",
       "1. **Major Histocompatibility Complex (MHC) Class II Genes**: \n",
       "   - Genes such as **HLA-DRA**, **HLA-DRB1**, **HLA-DPB1**, **HLA-DQA1**, **HLA-DQB1**, **HLA-DPA1**, **HLA-DMA**, and **HLA-DMB** are part of the MHC class II molecules, which are crucial for presenting antigens to CD4+ T cells. This suggests a role in immune response and antigen presentation.\n",
       "\n",
       "2. **B Cell Markers**:\n",
       "   - Genes like **CD79A**, **CD79B**, **MS4A1** (also known as CD20), **FCRLA**, and **BLK** are well-known markers of B cells. They are involved in B cell receptor signaling and development.\n",
       "\n",
       "3. **Other Immune-Related Genes**:\n",
       "   - **CD74** is involved in MHC class II presentation and is often expressed in B cells and antigen-presenting cells.\n",
       "   - **TCL1A** is associated with T cell activation and has been implicated in B cell malignancies.\n",
       "   - **FCER2** (CD23) is a low-affinity IgE receptor expressed on B cells and is involved in B cell activation and regulation.\n",
       "\n",
       "4. **Additional Genes**:\n",
       "   - **BANK1** is involved in B cell signaling and is associated with autoimmune diseases.\n",
       "   - **HVCN1** is involved in the regulation of reactive oxygen species in B cells.\n",
       "   - **LTB** (lymphotoxin beta) is important for lymphoid organ development and B cell function.\n",
       "\n",
       "Given this information, the genes you listed are indicative of **B cells**, particularly activated B cells or germinal center B cells, which are involved in the adaptive immune response. They may also represent a subset of B cells that are engaged in antigen presentation, possibly in the context of an immune response or in a disease state such as lymphoma or autoimmune disorders."
      ],
      "text/plain": [
       "<IPython.core.display.Markdown object>"
      ]
     },
     "metadata": {},
     "output_type": "display_data"
    }
   ],
   "source": [
    "pprint(r0[2]['target'])"
   ]
  },
  {
   "cell_type": "markdown",
   "metadata": {},
   "source": [
    "## Multiple terms"
   ]
  },
  {
   "cell_type": "code",
   "execution_count": 17,
   "metadata": {},
   "outputs": [],
   "source": [
    "m1 = sl.tl.ClusterAnnotationTerms()"
   ]
  },
  {
   "cell_type": "code",
   "execution_count": 19,
   "metadata": {},
   "outputs": [],
   "source": [
    "r1 = m1.fit(pbmc, llm, 'leiden')"
   ]
  },
  {
   "cell_type": "code",
   "execution_count": 22,
   "metadata": {},
   "outputs": [
    {
     "data": {
      "text/plain": [
       "['Regulation of immune response',\n",
       " 'Translation',\n",
       " 'Cellular response to cytokine stimulus',\n",
       " 'T cell activation',\n",
       " 'Metabolic process']"
      ]
     },
     "execution_count": 22,
     "metadata": {},
     "output_type": "execute_result"
    }
   ],
   "source": [
    "r1[0]['term']"
   ]
  },
  {
   "cell_type": "code",
   "execution_count": 23,
   "metadata": {},
   "outputs": [
    {
     "data": {
      "text/plain": [
       "[['CD3D', 'CD3E', 'IL7R', 'IL32'],\n",
       " ['RPS25',\n",
       "  'RPS27',\n",
       "  'RPS12',\n",
       "  'RPL31',\n",
       "  'RPL9',\n",
       "  'RPL30',\n",
       "  'RPS29',\n",
       "  'RPS3',\n",
       "  'RPS6',\n",
       "  'RPS15A',\n",
       "  'RPL21',\n",
       "  'RPS3A',\n",
       "  'RPLP2',\n",
       "  'RPL23A',\n",
       "  'RPL3',\n",
       "  'RPS20',\n",
       "  'RPSA',\n",
       "  'RPS14',\n",
       "  'RPL32',\n",
       "  'RPL13',\n",
       "  'RPL27A',\n",
       "  'TPT1'],\n",
       " ['IL7R', 'IL32'],\n",
       " ['CD3D', 'CD3E', 'IL7R'],\n",
       " ['LDHB']]"
      ]
     },
     "execution_count": 23,
     "metadata": {},
     "output_type": "execute_result"
    }
   ],
   "source": [
    "r1[0]['features']"
   ]
  },
  {
   "cell_type": "code",
   "execution_count": null,
   "metadata": {},
   "outputs": [],
   "source": []
  }
 ],
 "metadata": {
  "kernelspec": {
   "display_name": ".venv",
   "language": "python",
   "name": "python3"
  },
  "language_info": {
   "codemirror_mode": {
    "name": "ipython",
    "version": 3
   },
   "file_extension": ".py",
   "mimetype": "text/x-python",
   "name": "python",
   "nbconvert_exporter": "python",
   "pygments_lexer": "ipython3",
   "version": "3.12.7"
  }
 },
 "nbformat": 4,
 "nbformat_minor": 2
}
